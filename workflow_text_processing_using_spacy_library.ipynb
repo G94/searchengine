{
 "cells": [
  {
   "cell_type": "code",
   "execution_count": 2,
   "metadata": {},
   "outputs": [],
   "source": [
    "import spacy\n",
    "import json"
   ]
  },
  {
   "cell_type": "code",
   "execution_count": 67,
   "metadata": {},
   "outputs": [
    {
     "name": "stdout",
     "output_type": "stream",
     "text": [
      "Pandemic\n",
      "[a, pandemic, from, greek, πᾶν, pan, all, and, δῆμος, demos, people, is, an, epidemic, of, an, infectious, disease, that, has, spread, across, a, large, region, for, instance, multiple, continents, or, worldwide, affecting, a, substantial, number, of, people, a, widespread, endemic, disease, with, a, stable, number, of, infected, people, is, not]\n",
      "Epidemiology of HIV/AIDS\n",
      "[hiv, aids, or, human, immunodeficiency, virus, is, considered, by, some, authors, a, global, pandemic, however, the, who, currently, uses, the, term, global, epidemic, to, describe, hiv, as, of, 2018, approximately, 37.9, million, people, are, infected, with, hiv, globally.there, were, about, 770,000, deaths, from, aids, in, 2018.the, 2015, global, burden, of]\n",
      "Antonine Plague\n",
      "[the, antonine, plague, of, 165, to, 180, ad, also, known, as, the, plague, of, galen, after, galen, the, physician, who, described, it, was, an, ancient, pandemic, brought, to, the, roman, empire, by, troops, who, were, returning, from, campaigns, in, the, near, east, scholars, have, suspected, it, to, have, been, either]\n",
      "Basic reproduction number\n",
      "[in, epidemiology, the, basic, reproduction, number, or, basic, reproductive, number, sometimes, called, basic, reproduction, ratio, or, basic, reproductive, rate, denoted, \n",
      "  \n",
      "    \n",
      "      \n",
      "        \n",
      "          , r, \n",
      "          \n",
      "            , 0, \n",
      "          \n",
      "        \n",
      "      \n",
      "    \n",
      "    , \\displaystyle, r_{0, \n",
      "   , pronounced, r, nought, or, r, zero, of, an, infection, can, be, thought, of, as, the, expected, number, of, cases, directly, generated, by]\n",
      "Bills of mortality\n",
      "[bills, of, mortality, were, the, weekly, mortality, statistics, in, london, designed, to, monitor, burials, from, 1592, to, 1595, and, then, continuously, from, 1603, the, responsibility, to, produce, the, statistics, was, chartered, in, 1611, to, the, worshipful, company, of, parish, clerks, the, bills, covered, an, area, that, started, to, expand, as]\n",
      "Cholera\n",
      "[cholera, is, an, infection, of, the, small, intestine, by, some, strains, of, the, bacterium, vibrio, cholerae, symptoms, may, range, from, none, to, mild, to, severe, the, classic, symptom, is, large, amounts, of, watery, diarrhea, that, lasts, a, few, days, vomiting, and, muscle, cramps, may, also, occur, diarrhea, can, be, so]\n",
      "COVID-19 pandemic\n",
      "[the, covid-19, pandemic, also, known, as, the, coronavirus, pandemic, is, an, ongoing, pandemic, of, coronavirus, disease, 2019, covid-19, caused, by, severe, acute, respiratory, syndrome, coronavirus, 2, sars, cov-2, the, disease, was, first, identified, in, december, 2019, in, wuhan, china, the, outbreak, was, declared, a, public, health, emergency, of, international, concern]\n",
      "Crimson Contagion\n",
      "[crimson, contagion, was, a, joint, exercise, conducted, from, january, to, august, 2019, in, which, numerous, national, state, and, local, private, and, public, organizations, in, the, us, participated, in, order, to, test, the, capacity, of, the, federal, government, and, twelve, states, to, respond, to, a, severe, pandemic, of, influenza, originating, in]\n",
      "Disease X\n",
      "[disease, x, is, a, placeholder, name, that, was, adopted, by, the, world, health, organization, who, in, february, 2018, on, their, shortlist, of, blueprint, priority, diseases, to, represent, a, hypothetical, unknown, pathogen, that, could, cause, a, future, epidemic, the, who, adopted, the, placeholder, name, to, ensure, that, their, planning, was, sufficiently]\n",
      "Event 201\n",
      "[the, johns, hopkins, center, for, health, security, abbreviated, chs, previously, the, upmc, center, for, health, security, the, center, for, biosecurity, of, upmc, and, the, johns, hopkins, center, for, civilian, biodefense, strategies, is, an, independent, nonprofit, organization, of, the, johns, hopkins, bloomberg, school, of, public, health, and, part, of, the, environmental]\n",
      "HIV/AIDS\n",
      "[human, immunodeficiency, virus, infection, and, acquired, immune, deficiency, syndrome, hiv, aids, is, a, spectrum, of, conditions, caused, by, infection, with, the, human, immunodeficiency, virus, hiv, following, initial, infection, a, person, may, not, notice, any, symptoms, or, may, experience, a, brief, period, of, influenza, like, illness, typically, this, is, followed, by]\n",
      "HIV/AIDS in Yunnan\n",
      "[the, people, 's, republic, of, china, 's, first, reported, aids, case, was, identified, in, 1985, in, a, dying, tourist, in, 1989, the, first, indigenous, cases, were, reported, as, an, outbreak, in, 146, infected, heroin, users, in, yunnan, province, near, china, 's, southwest, border.yunnan, is, the, area, most, affected, by, hiv]\n",
      "Pandemic prevention\n",
      "[pandemic, prevention, is, the, organization, and, management, of, preventive, measures, against, pandemics, those, include, measures, to, reduce, causes, of, new, infectious, diseases, and, measures, to, prevent, outbreaks, and, epidemics, from, becoming, pandemics, \n",
      ", it, is, not, to, be, mistaken, for, pandemic, preparedness, or, pandemic, mitigation, which, largely, seek, to, mitigate]\n",
      "Pandemic Severity Assessment Framework\n",
      "[the, pandemic, severity, assessment, framework, psaf, is, an, evaluation, framework, which, uses, quadrants, to, evaluate, both, the, transmissibility, and, clinical, severity, of, a, pandemic, and, to, combine, these, into, an, overall, impact, estimate, \n",
      ", clinical, severity, is, calculated, via, multiple, measures, including, case, fatality, rate, case, hospitalization, ratios, and, deaths]\n",
      "Pandemic severity index\n",
      "[the, pandemic, severity, index, psi, was, a, proposed, classification, scale, for, reporting, the, severity, of, influenza, pandemics, in, the, united, states, the, psi, was, accompanied, by, a, set, of, guidelines, intended, to, help, communicate, appropriate, actions, for, communities, to, follow, in, potential, pandemic, situations, released, by, the, united, states, department]\n",
      "Plague of Cyprian\n",
      "[the, plague, of, cyprian, was, a, pandemic, that, afflicted, the, roman, empire, about, from, ad, 249, to, 262, the, plague, is, thought, to, have, caused, widespread, manpower, shortages, for, food, production, and, the, roman, army, severely, weakening, the, empire, during, the, crisis, of, the, third, century, its, modern, name, commemorates]\n",
      "PREDICT (USAID)\n",
      "[predict, was, an, epidemiological, research, program, funded, by, a, united, states, agency, for, international, development, usaid, grant,  , launched, in, 2009, the, program, was, described, as, an, early, warning, pandemic, system]\n",
      "1929–1930 psittacosis pandemic\n",
      "[the, 1929–1930, psittacosis, pandemic, also, known, as, the, psittacosis, outbreak, of, 1929–1930, and, the, great, parrot, fever, pandemic, was, a, series, of, simultaneous, outbreaks, of, psittacosis, parrot, fever, which, accelerated, by, the, breeding, and, transportation, of, birds, in, crowded, containers, for, the, purpose, of, trade, was, initially, seen, to, have]\n",
      "Science diplomacy and pandemics\n",
      "[science, diplomacy, is, the, collaborative, efforts, by, local, and, global, entities, to, solve, global, issues, using, science, and, technology, as, a, base, in, science, diplomacy, collaboration, takes, place, to, advance, science, but, science, can, also, be, used, to, facilitate, diplomatic, relations, this, allows, even, conflicting, nations, to, come, together, through]\n",
      "Spanish flu\n",
      "[the, spanish, flu, also, known, as, the, 1918, flu, pandemic, was, an, unusually, deadly, influenza, pandemic, caused, by, the, h1n1, influenza, a, virus, lasting, from, february, 1918, to, april, 1920, it, infected, 500, million, people, about, a, third, of, the, world, 's, population, at, the, time, in, four, successive, waves]\n",
      "Superspreader\n",
      "[a, superspreader, is, an, unusually, contagious, organism, infected, with, a, disease, in, the, context, of, a, human, borne, illness, a, superspreader, is, an, individual, who, is, more, likely, to, infect, others, compared, with, a, typical, infected, person, such, superspreaders, are, of, particular, concern, in, epidemiology, \n",
      ", some, cases, of, superspreading]\n",
      "Swine influenza\n",
      "[swine, influenza, is, an, infection, caused, by, any, one, of, several, types, of, swine, influenza, viruses, swine, influenza, virus, siv, or, swine, origin, influenza, virus, s, oiv, is, any, strain, of, the, influenza, family, of, viruses, that, is, endemic, in, pigs, as, of, 2009, the, known, siv, strains, include, influenza]\n",
      "Targeted immunization strategies\n"
     ]
    },
    {
     "name": "stdout",
     "output_type": "stream",
     "text": [
      "[targeted, immunization, strategies, are, approaches, designed, to, increase, the, immunization, level, of, populations, and, decrease, the, chances, of, epidemic, outbreaks, though, often, in, regards, to, use, in, healthcare, practices, and, the, administration, of, vaccines, to, prevent, biological, epidemic, outbreaks, these, strategies, refer, in, general, to, immunization, schemes, in, complex, networks]\n",
      "Unified Victim Identification System\n",
      "[the, unified, victim, identification, system, uvis, is, an, internet, enabled, database, system, developed, for, the, office, of, chief, medical, examiner, of, the, city, of, new, york, ocme, in, the, aftermath, of, the, september, 11, attacks, on, new, york, city, and, the, crash, of, american, airlines, flight, 587,  , it, is]\n",
      "Viral load\n",
      "[viral, load, also, known, as, viral, burden, viral, titre, or, viral, titer, is, a, numerical, expression, of, the, quantity, of, virus, in, a, given, volume, of, fluid, sputum, and, blood, plasma, being, two, bodily, fluids, for, example, the, viral, load, of, norovirus, can, be, determined, from, run, off, water, on]\n",
      "Virus\n",
      "[a, virus, is, a, submicroscopic, infectious, agent, that, replicates, only, inside, the, living, cells, of, an, organism, viruses, infect, all, types, of, life, forms, from, animals, and, plants, to, microorganisms, including, bacteria, and, archaea, \n",
      ", since, dmitri, ivanovsky, 's, 1892, article, describing, a, non, bacterial, pathogen, infecting, tobacco, plants, and]\n"
     ]
    }
   ],
   "source": [
    "with open(\"data/data.json\", mode = \"rb\") as file:\n",
    "    file_obj = json.load(file)\n",
    "    \n",
    "    for index, file in enumerate(file_obj):\n",
    "        print(file[\"title\"])\n",
    "        tokens = preprocess(file[\"text\"])\n",
    "        print(tokens[0:50])"
   ]
  },
  {
   "cell_type": "code",
   "execution_count": 53,
   "metadata": {},
   "outputs": [],
   "source": [
    "# Create a Python function that takes in a text string,\n",
    "# performs all operations described in the previous step, \n",
    "# and outputs a list of tokens (lemmas).\n",
    "# Lowercases the text string.\n",
    "# Creates a spaCy document with the text lemmas and their attributes \n",
    "# using a spaCy model of your choice.\n",
    "# Removes stop words, punctuation, and other unclassified lemmas.\n",
    "# Returns a list of tokens (lemmas) found in the text.\n",
    "\n",
    "## Doc -> Span(Slice of items) -> Token (a specific item)"
   ]
  },
  {
   "cell_type": "code",
   "execution_count": 66,
   "metadata": {},
   "outputs": [],
   "source": [
    "def preprocess(content_doc):\n",
    "    \"\"\"\n",
    "    This function perform the following operations:\n",
    "    - Lowercases the text string.\n",
    "    - Creates a spaCy document with the text lemmas and \n",
    "        their attributes using a spaCy model of your choice.\n",
    "    - Removes stop words, punctuation, and other unclassified lemmas.\n",
    "    - Returns a list of tokens (lemmas) found in the text.    \n",
    "    \n",
    "    :param doc_content: Document content\n",
    "    :type content_doc: str\n",
    "    :return: List of tokens (lemmas)\n",
    "    \n",
    "    \"\"\"\n",
    "    content_doc = content_doc.lower()\n",
    "    \n",
    "    nlp = spacy.load('en_core_web_sm', disable=['parser', 'ner'])\n",
    "    content_doc = content_doc.lower()\n",
    "    \n",
    "    # doc contains the text lemmas and their attributes\n",
    "    # https://spacy.io/api/doc\n",
    "    doc = nlp(content_doc)\n",
    "    \n",
    "     # remove stop words\n",
    "    all_stopwords = nlp.Defaults.stop_words\n",
    "    tokens_without_sw = [word for word in doc if not word in all_stopwords]\n",
    "    \n",
    "    # remove punctuation\n",
    "    tokens_without_pct = [token for token in tokens_without_sw if not token.is_punct]\n",
    "    \n",
    "    return tokens_without_pct"
   ]
  },
  {
   "cell_type": "markdown",
   "metadata": {},
   "source": [
    "### Test\n",
    "https://spacy.io/usage/spacy-101#annotations-token"
   ]
  },
  {
   "cell_type": "code",
   "execution_count": 54,
   "metadata": {},
   "outputs": [],
   "source": [
    "nlp = spacy.load('en_core_web_sm', disable=['parser', 'ner'])\n",
    "doc = nlp(\"It's over Anakin! I have the high ground\")"
   ]
  },
  {
   "cell_type": "code",
   "execution_count": 55,
   "metadata": {},
   "outputs": [
    {
     "data": {
      "text/plain": [
       "spacy.tokens.doc.Doc"
      ]
     },
     "execution_count": 55,
     "metadata": {},
     "output_type": "execute_result"
    }
   ],
   "source": [
    "type(doc)"
   ]
  },
  {
   "cell_type": "code",
   "execution_count": 57,
   "metadata": {},
   "outputs": [
    {
     "data": {
      "text/plain": [
       "spacy.tokens.span.Span"
      ]
     },
     "execution_count": 57,
     "metadata": {},
     "output_type": "execute_result"
    }
   ],
   "source": [
    "type(doc[0:2])"
   ]
  },
  {
   "cell_type": "code",
   "execution_count": 58,
   "metadata": {},
   "outputs": [
    {
     "data": {
      "text/plain": [
       "spacy.tokens.token.Token"
      ]
     },
     "execution_count": 58,
     "metadata": {},
     "output_type": "execute_result"
    }
   ],
   "source": [
    "type(doc[0])"
   ]
  },
  {
   "cell_type": "code",
   "execution_count": 56,
   "metadata": {},
   "outputs": [
    {
     "data": {
      "text/plain": [
       "False"
      ]
     },
     "execution_count": 56,
     "metadata": {},
     "output_type": "execute_result"
    }
   ],
   "source": [
    "doc[2].is_punct "
   ]
  },
  {
   "cell_type": "code",
   "execution_count": 45,
   "metadata": {},
   "outputs": [
    {
     "data": {
      "text/plain": [
       "!"
      ]
     },
     "execution_count": 45,
     "metadata": {},
     "output_type": "execute_result"
    }
   ],
   "source": [
    "doc[2]"
   ]
  },
  {
   "cell_type": "code",
   "execution_count": null,
   "metadata": {},
   "outputs": [],
   "source": []
  },
  {
   "cell_type": "code",
   "execution_count": null,
   "metadata": {},
   "outputs": [],
   "source": []
  }
 ],
 "metadata": {
  "kernelspec": {
   "display_name": "Python 3 (ipykernel)",
   "language": "python",
   "name": "python3"
  },
  "language_info": {
   "codemirror_mode": {
    "name": "ipython",
    "version": 3
   },
   "file_extension": ".py",
   "mimetype": "text/x-python",
   "name": "python",
   "nbconvert_exporter": "python",
   "pygments_lexer": "ipython3",
   "version": "3.8.12"
  }
 },
 "nbformat": 4,
 "nbformat_minor": 2
}
